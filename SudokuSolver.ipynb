{
  "nbformat": 4,
  "nbformat_minor": 0,
  "metadata": {
    "colab": {
      "provenance": [],
      "authorship_tag": "ABX9TyN78vkhuZQ7ls0aSIKdyPUA",
      "include_colab_link": true
    },
    "kernelspec": {
      "name": "python3",
      "display_name": "Python 3"
    },
    "language_info": {
      "name": "python"
    }
  },
  "cells": [
    {
      "cell_type": "markdown",
      "metadata": {
        "id": "view-in-github",
        "colab_type": "text"
      },
      "source": [
        "<a href=\"https://colab.research.google.com/github/ranaem/Python/blob/main/SudokuSolver.ipynb\" target=\"_parent\"><img src=\"https://colab.research.google.com/assets/colab-badge.svg\" alt=\"Open In Colab\"/></a>"
      ]
    },
    {
      "cell_type": "markdown",
      "source": [
        "# A Simple Sudoku Solver With Python\n",
        "\n",
        "Sudoku is a logic-based, combinatorial number-placement puzzle. In classic Sudoku, the objective is to fill a 9 × 9 grid with digits so that each column, each row, and each of the nine 3 × 3 subgrids that compose the grid contains all of the digits from 1 to 9\n",
        "\n",
        "**So How Can We Do It With Coding ?**\n",
        "\n",
        "**First**\n",
        "\n",
        "*We need a method to check if the move we want to make is valid and to achieve that we need to check 3 things*\n",
        "\n",
        "1- the number we want to add doesn't appear more than once in the same row\n",
        "\n",
        "\n",
        "2- the number we want to add doesn't appear more than once in the same column\n",
        "\n",
        "3- the number we want to add doesn't appear more than once in the same 3 × 3 subgrid\n",
        "\n",
        "**Second Step**\n",
        "\n",
        "*Solving the sudoku*\n",
        "\n",
        "1- check if we reached the end of the sudoku then it is Solved\n",
        "\n",
        "2- check if the current block is bigger than 0 so we need to go to the next block -*column*-\n",
        "\n",
        "3- if the number in the block is 0 then we check what is the valid number for this block within the range of 1 to 9 by calling the is_valid_move\n",
        "\n",
        "\n",
        "```\n",
        "if is_valid_move(grid,row,col,num):\n",
        "      grid[row][col] = num\n",
        "```\n",
        "\n",
        "\n",
        "\n",
        "\n"
      ],
      "metadata": {
        "id": "lCxouNtgsqvL"
      }
    },
    {
      "cell_type": "code",
      "execution_count": null,
      "metadata": {
        "colab": {
          "base_uri": "https://localhost:8080/"
        },
        "id": "3NA07vLwh_AV",
        "outputId": "744a07b7-3167-4ec1-c5f8-10926bee584a"
      },
      "outputs": [
        {
          "output_type": "stream",
          "name": "stdout",
          "text": [
            "4 8 6 9 1 5 7 3 2 \n",
            "7 2 5 4 6 3 1 9 8 \n",
            "3 9 1 7 8 2 4 5 6 \n",
            "5 6 4 1 9 7 2 8 3 \n",
            "9 7 3 6 2 8 5 1 4 \n",
            "8 1 2 5 3 4 6 7 9 \n",
            "2 5 7 8 4 9 3 6 1 \n",
            "1 3 8 2 5 6 9 4 7 \n",
            "6 4 9 3 7 1 8 2 5 \n"
          ]
        }
      ],
      "source": [
        "def is_valid_move(grid,row,col,number):\n",
        "  for num in range(9):\n",
        "    if grid[row][num] == number:\n",
        "      return False\n",
        "\n",
        "  for num in range(9):\n",
        "    if grid[num][col] == number:\n",
        "      return False\n",
        "\n",
        "  corner_row = row - row % 3\n",
        "  corner_col = col - col % 3\n",
        "\n",
        "  for num in range(3):\n",
        "    for numm in range(3):\n",
        "      if grid[corner_row + num][corner_col + numm] == number:\n",
        "        return False\n",
        "\n",
        "  return True\n",
        "\n",
        "def solve(grid, row, col):\n",
        "\n",
        "  if col == 9:\n",
        "    if row == 8:\n",
        "      return True\n",
        "    row += 1\n",
        "    col = 0\n",
        "  if grid[row][col] > 0:\n",
        "    return solve(grid, row, col + 1)\n",
        "\n",
        "  for num in range(1,10):\n",
        "    if is_valid_move(grid,row,col,num):\n",
        "      grid[row][col] = num\n",
        "\n",
        "      if solve(grid,row,col + 1):\n",
        "        return True\n",
        "\n",
        "    grid[row][col] = 0\n",
        "\n",
        "  return False\n",
        "\n",
        "grid = [\n",
        "[4, 0, 0, 0, 0, 5, 0, 0, 0],\n",
        "[0, 0, 0, 0, 0, 0, 1, 9, 8],\n",
        "[3, 0, 0, 0, 8, 2, 4, 0, 0],\n",
        "[0, 0, 0, 1, 0, 0, 0, 8, 0],\n",
        "[9, 0, 3, 0, 0, 0, 0, 0, 0],\n",
        "[0, 0, 0, 0, 3, 0, 6, 7, 0],\n",
        "[0, 5, 0, 0, 0, 9, 0, 0, 0],\n",
        "[0, 0, 0, 2, 0, 0, 9, 0, 7],\n",
        "[6, 4, 0, 3, 0, 0, 0, 0, 0],\n",
        "]\n",
        "\n",
        "if solve(grid, 0, 0):\n",
        "  for i in range(9):\n",
        "    for k in range(9):\n",
        "      print(grid[i][k], end=' ')\n",
        "    print()\n",
        "else:\n",
        "  print(\"There Is No Solution For This Sudoku\")"
      ]
    }
  ]
}